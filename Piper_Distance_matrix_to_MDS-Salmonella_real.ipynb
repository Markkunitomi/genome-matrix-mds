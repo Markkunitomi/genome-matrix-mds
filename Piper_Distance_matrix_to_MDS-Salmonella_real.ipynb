{
 "cells": [
  {
   "cell_type": "code",
   "execution_count": 1,
   "metadata": {},
   "outputs": [],
   "source": [
    "### Distance Matrix to MDS"
   ]
  },
  {
   "cell_type": "markdown",
   "metadata": {},
   "source": [
    "### Get data"
   ]
  },
  {
   "cell_type": "code",
   "execution_count": 2,
   "metadata": {},
   "outputs": [],
   "source": [
    "import pandas as pd\n",
    "import numpy as np"
   ]
  },
  {
   "cell_type": "code",
   "execution_count": 3,
   "metadata": {},
   "outputs": [
    {
     "name": "stdout",
     "output_type": "stream",
     "text": [
      "46\n"
     ]
    }
   ],
   "source": [
    "### Import distance matrix and remove Row labels\n",
    "df = pd.read_table(\"Data/distance_group_143.txt\", index_col=0)\n",
    "### Get filenames from headers\n",
    "INDEX = df.index\n",
    "print(len(INDEX))"
   ]
  },
  {
   "cell_type": "markdown",
   "metadata": {},
   "source": [
    "### Get metadata"
   ]
  },
  {
   "cell_type": "code",
   "execution_count": 4,
   "metadata": {},
   "outputs": [],
   "source": [
    "Outbreak_dict = {\n",
    "                    \"509\" : \"outgroup\",\n",
    "                    \"508\" : \"outgroup\",\n",
    "                    \"503\" : \"outgroup\",\n",
    "                    \"541\" : \"outgroup\",\n",
    "                    \"540\" : \"outgroup\",\n",
    "                    \"542\" : \"outgroup\",\n",
    "                    \"539\" : \"outgroup\",\n",
    "                    \"547\" : \"1203NYJAP-1\",\n",
    "                    \"546\" : \"1203NYJAP-1\",\n",
    "                    \"537\" : \"1203NYJAP-1\",\n",
    "                    \"559\" : \"1203NYJAP-1\",\n",
    "                    \"548\" : \"1203NYJAP-1\",\n",
    "                    \"553\" : \"1203NYJAP-1\",\n",
    "                    \"551\" : \"1203NYJAP-1\",\n",
    "                    \"554\" : \"1203NYJAP-1\",\n",
    "                    \"544\" : \"1203NYJAP-1\",\n",
    "                    \"543\" : \"1203NYJAP-1\",\n",
    "                    \"558\" : \"1203NYJAP-1\",\n",
    "                    \"550\" : \"1203NYJAP-1\",\n",
    "                    \"557\" : \"1203NYJAP-1\",\n",
    "                    \"545\" : \"1203NYJAP-1\",\n",
    "                    \"549\" : \"1203NYJAP-1\",\n",
    "                    \"555\" : \"1203NYJAP-1\",\n",
    "                    \"556\" : \"1203NYJAP-1\",\n",
    "                    \"552\" : \"1203NYJAP-1\",\n",
    "                    \"538\" : \"outgroup\",\n",
    "                    \"504\" : \"outgroup\",\n",
    "                    \"511\" : \"1203NYJAP-1\",\n",
    "                    \"505\" : \"1203NYJAP-1\",\n",
    "                    \"516\" : \"1203NYJAP-1\",\n",
    "                    \"517\" : \"1203NYJAP-1\",\n",
    "                    \"514\" : \"1203NYJAP-1\",\n",
    "                    \"518\" : \"1203NYJAP-1\",\n",
    "                    \"521\" : \"1203NYJAP-1\",\n",
    "                    \"512\" : \"1203NYJAP-1\",\n",
    "                    \"513\" : \"1203NYJAP-1\",\n",
    "                    \"502\" : \"outgroup\",\n",
    "                    \"520\" : \"1203NYJAP-1\",\n",
    "                    \"515\" : \"1203NYJAP-1\",\n",
    "                    \"507\" : \"1203NYJAP-1\",\n",
    "                    \"506\" : \"1203NYJAP-1\",\n",
    "                    \"523\" : \"1203NYJAP-1\",\n",
    "                    \"522\" : \"1203NYJAP-1\",\n",
    "                    \"524\" : \"1203NYJAP-1\",\n",
    "                    \"519\" : \"1203NYJAP-1\",\n",
    "                    \"510\" : \"1203NYJAP-1\"\n",
    "                    }"
   ]
  },
  {
   "cell_type": "markdown",
   "metadata": {},
   "source": [
    "### Run MDS"
   ]
  },
  {
   "cell_type": "code",
   "execution_count": 5,
   "metadata": {},
   "outputs": [],
   "source": [
    "from sklearn import manifold"
   ]
  },
  {
   "cell_type": "code",
   "execution_count": 6,
   "metadata": {},
   "outputs": [],
   "source": [
    "mds = manifold.MDS(n_components=2, dissimilarity=\"precomputed\", random_state=2)\n",
    "results = mds.fit(df)\n"
   ]
  },
  {
   "cell_type": "code",
   "execution_count": 7,
   "metadata": {},
   "outputs": [],
   "source": [
    "### Create plot\n",
    "coords = results.embedding_\n",
    "Plot = pd.DataFrame(dict(x=coords[:, 0], y=coords[:, 1], label=INDEX))\n",
    "Plot['label'] = Plot['label'].apply(str)\n",
    "Plot[\"Outbreak\"] = Plot['label'].map(Outbreak_dict)"
   ]
  },
  {
   "cell_type": "markdown",
   "metadata": {},
   "source": [
    "### Plot MDS"
   ]
  },
  {
   "cell_type": "code",
   "execution_count": 8,
   "metadata": {},
   "outputs": [],
   "source": [
    "from matplotlib import pyplot as plt\n",
    "from matplotlib import pylab\n",
    "from matplotlib import cm"
   ]
  },
  {
   "cell_type": "code",
   "execution_count": 9,
   "metadata": {},
   "outputs": [
    {
     "data": {
      "image/png": "[encoded data removed]",
      "text/plain": [
       "<Figure size 432x324 with 1 Axes>"
      ]
     },
     "metadata": {},
     "output_type": "display_data"
    }
   ],
   "source": [
    "### Plot parameters\n",
    "fig_size = plt.rcParams[\"figure.figsize\"]\n",
    "fig_size[0] = 6\n",
    "fig_size[1] = 4.5\n",
    "plt.rcParams[\"figure.figsize\"] = fig_size\n",
    "\n",
    "### Plot\n",
    "groups = Plot.groupby('Outbreak')\n",
    "fig, ax = plt.subplots()\n",
    "ax.margins(0.2) # Optional, just adds 5% padding to the autoscaling\n",
    "\n",
    "colors = ['red', 'grey']\n",
    "alphas = np.linspace(.2, .8, len(groups))\n",
    "for group, color, alpha in zip(groups, colors, alphas):\n",
    "    ax.plot(group[1].x, \n",
    "            group[1].y, \n",
    "            marker='o', \n",
    "            linestyle='', \n",
    "            ms=10, \n",
    "            label=group[0], \n",
    "            c=color, \n",
    "            alpha=0.8,\n",
    "            markeredgecolor='k', \n",
    "           )\n",
    "\n",
    "lgd = pylab.legend(loc=1)\n",
    "# ax.legend_.remove()\n",
    "plt.title(\"Multi Dimesional Scaling of Benchmark Data:\\n Salmonella\")\n",
    "plt.xticks([], [])\n",
    "plt.yticks([], [])\n",
    "plt.tight_layout()\n",
    "plt.show()"
   ]
  },
  {
   "cell_type": "code",
   "execution_count": null,
   "metadata": {},
   "outputs": [],
   "source": []
  },
  {
   "cell_type": "code",
   "execution_count": null,
   "metadata": {},
   "outputs": [],
   "source": []
  }
 ],
 "metadata": {
  "kernelspec": {
   "display_name": "Python 3",
   "language": "python",
   "name": "python3"
  },
  "language_info": {
   "codemirror_mode": {
    "name": "ipython",
    "version": 3
   },
   "file_extension": ".py",
   "mimetype": "text/x-python",
   "name": "python",
   "nbconvert_exporter": "python",
   "pygments_lexer": "ipython3",
   "version": "3.6.5"
  }
 },
 "nbformat": 4,
 "nbformat_minor": 2
}
