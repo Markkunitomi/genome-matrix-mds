{
 "cells": [
  {
   "cell_type": "code",
   "execution_count": 1,
   "metadata": {},
   "outputs": [],
   "source": [
    "### Distance Matrix to MDS"
   ]
  },
  {
   "cell_type": "markdown",
   "metadata": {},
   "source": [
    "### Get data"
   ]
  },
  {
   "cell_type": "code",
   "execution_count": 2,
   "metadata": {},
   "outputs": [],
   "source": [
    "import pandas as pd\n",
    "import numpy as np"
   ]
  },
  {
   "cell_type": "code",
   "execution_count": 10,
   "metadata": {},
   "outputs": [
    {
     "name": "stdout",
     "output_type": "stream",
     "text": [
      "23\n"
     ]
    }
   ],
   "source": [
    "### Import distance matrix and remove Row labels\n",
    "df = pd.read_table(\"Data/distance_group_56.txt\", index_col=0)\n",
    "### Get filenames from headers\n",
    "INDEX = df.index\n",
    "print(len(INDEX))"
   ]
  },
  {
   "cell_type": "markdown",
   "metadata": {},
   "source": [
    "### Get metadata"
   ]
  },
  {
   "cell_type": "code",
   "execution_count": 64,
   "metadata": {},
   "outputs": [],
   "source": [
    "Outbreak_dict = {\n",
    "                    \"557\" : \"outbreak\",\n",
    "                    \"545\" : \"outbreak\",\n",
    "                    \"549\" : \"outbreak\",\n",
    "                    \"547\" : \"outbreak\",\n",
    "                    \"546\" : \"outbreak\",\n",
    "                    \"543\" : \"outbreak\",\n",
    "                    \"537\" : \"outbreak\",\n",
    "                    \"554\" : \"outbreak\",\n",
    "                    \"544\" : \"outbreak\",\n",
    "                    \"559\" : \"outbreak\",\n",
    "                    \"548\" : \"outbreak\",\n",
    "                    \"551\" : \"outbreak\",\n",
    "                    \"553\" : \"outbreak\",\n",
    "                    \"555\" : \"outbreak\",\n",
    "                    \"558\" : \"outbreak\",\n",
    "                    \"550\" : \"outbreak\",\n",
    "                    \"556\" : \"outbreak\",\n",
    "                    \"552\" : \"outbreak\",\n",
    "                    \"538\" : \"outgroup\",\n",
    "                    \"541\" : \"outgroup\",\n",
    "                    \"540\" : \"outgroup\",\n",
    "                    \"542\" : \"outgroup\",\n",
    "                    \"539\" : \"outgroup\"\n",
    "                    }"
   ]
  },
  {
   "cell_type": "markdown",
   "metadata": {},
   "source": [
    "### Run MDS"
   ]
  },
  {
   "cell_type": "code",
   "execution_count": 11,
   "metadata": {},
   "outputs": [],
   "source": [
    "from sklearn import manifold"
   ]
  },
  {
   "cell_type": "code",
   "execution_count": 12,
   "metadata": {},
   "outputs": [],
   "source": [
    "mds = manifold.MDS(n_components=2, dissimilarity=\"precomputed\", random_state=2)\n",
    "results = mds.fit(df)\n"
   ]
  },
  {
   "cell_type": "code",
   "execution_count": 70,
   "metadata": {},
   "outputs": [],
   "source": [
    "### Create plot\n",
    "coords = results.embedding_\n",
    "Plot = pd.DataFrame(dict(x=coords[:, 0], y=coords[:, 1], label=INDEX))\n",
    "Plot['label'] = Plot['label'].apply(str)\n",
    "Plot[\"Outbreak\"] = Plot['label'].map(Outbreak_dict)"
   ]
  },
  {
   "cell_type": "markdown",
   "metadata": {},
   "source": [
    "### Plot MDS"
   ]
  },
  {
   "cell_type": "code",
   "execution_count": 15,
   "metadata": {},
   "outputs": [],
   "source": [
    "from matplotlib import pyplot as plt\n",
    "from matplotlib import pylab\n",
    "from matplotlib import cm"
   ]
  },
  {
   "cell_type": "code",
   "execution_count": 84,
   "metadata": {},
   "outputs": [
    {
     "data": {
      "text/plain": [
       "array([[1.46200e-03, 4.66000e-04, 1.38660e-02, 1.00000e+00],\n",
       "       [9.87053e-01, 9.91438e-01, 7.49504e-01, 1.00000e+00]])"
      ]
     },
     "execution_count": 84,
     "metadata": {},
     "output_type": "execute_result"
    }
   ],
   "source": [
    "colors"
   ]
  },
  {
   "cell_type": "code",
   "execution_count": 100,
   "metadata": {},
   "outputs": [
    {
     "data": {
      "image/png": "[encoded data removed]",
      "text/plain": [
       "<Figure size 432x324 with 1 Axes>"
      ]
     },
     "metadata": {},
     "output_type": "display_data"
    }
   ],
   "source": [
    "### Plot parameters\n",
    "fig_size = plt.rcParams[\"figure.figsize\"]\n",
    "fig_size[0] = 6\n",
    "fig_size[1] = 4.5\n",
    "plt.rcParams[\"figure.figsize\"] = fig_size\n",
    "\n",
    "### Plot\n",
    "groups = Plot.groupby('Outbreak')\n",
    "fig, ax = plt.subplots()\n",
    "ax.margins(0.2) # Optional, just adds 5% padding to the autoscaling\n",
    "\n",
    "colors = ['red', 'grey']\n",
    "alphas = np.linspace(.2, .8, len(groups))\n",
    "for group, color, alpha in zip(groups, colors, alphas):\n",
    "    ax.plot(group[1].x, \n",
    "            group[1].y, \n",
    "            marker='o', \n",
    "            linestyle='', \n",
    "            ms=10, \n",
    "            label=group[0], \n",
    "            c=color, \n",
    "            alpha=0.8,\n",
    "            markeredgecolor='k', \n",
    "           )\n",
    "\n",
    "lgd = pylab.legend(loc=2)\n",
    "# ax.legend_.remove()\n",
    "plt.title(\"Multi Dimesional Scaling of Benchmark Data:\\nSynthetic Salmonella\")\n",
    "plt.xticks([], [])\n",
    "plt.yticks([], [])\n",
    "plt.tight_layout()\n",
    "plt.show()"
   ]
  },
  {
   "cell_type": "code",
   "execution_count": null,
   "metadata": {},
   "outputs": [],
   "source": []
  }
 ],
 "metadata": {
  "kernelspec": {
   "display_name": "Python 3",
   "language": "python",
   "name": "python3"
  },
  "language_info": {
   "codemirror_mode": {
    "name": "ipython",
    "version": 3
   },
   "file_extension": ".py",
   "mimetype": "text/x-python",
   "name": "python",
   "nbconvert_exporter": "python",
   "pygments_lexer": "ipython3",
   "version": "3.6.5"
  }
 },
 "nbformat": 4,
 "nbformat_minor": 2
}
