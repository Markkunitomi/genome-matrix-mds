{
 "cells": [
  {
   "cell_type": "code",
   "execution_count": 1,
   "metadata": {},
   "outputs": [],
   "source": [
    "### Distance Matrix to MDS"
   ]
  },
  {
   "cell_type": "markdown",
   "metadata": {},
   "source": [
    "### Get data"
   ]
  },
  {
   "cell_type": "code",
   "execution_count": 1,
   "metadata": {},
   "outputs": [],
   "source": [
    "import pandas as pd\n",
    "import numpy as np"
   ]
  },
  {
   "cell_type": "code",
   "execution_count": 2,
   "metadata": {},
   "outputs": [
    {
     "name": "stdout",
     "output_type": "stream",
     "text": [
      "3900\n"
     ]
    }
   ],
   "source": [
    "### Import distance matrix and remove Row labels\n",
    "df = pd.read_table(\"Data/ssRNA_complete_genomes_100_subsample_50000.dist\")\n",
    "df = df.drop(\"#query\", axis=1)\n",
    "### Get filenames from headers\n",
    "INDEX = list(df)\n",
    "print(len(INDEX))"
   ]
  },
  {
   "cell_type": "markdown",
   "metadata": {},
   "source": [
    "### Get metadata"
   ]
  },
  {
   "cell_type": "code",
   "execution_count": 3,
   "metadata": {},
   "outputs": [
    {
     "data": {
      "text/plain": [
       "3900"
      ]
     },
     "execution_count": 3,
     "metadata": {},
     "output_type": "execute_result"
    }
   ],
   "source": [
    "import pandas as pd\n",
    "df_Accessions_100 = pd.read_csv(\"Data/df_ssRNA_complete_100_subsample.tsv\", sep=\"\\t\")\n",
    "len(df_Accessions_100)"
   ]
  },
  {
   "cell_type": "code",
   "execution_count": 4,
   "metadata": {},
   "outputs": [],
   "source": [
    "Acc_to_species = dict(zip(df_Accessions_100[\"accs\"], df_Accessions_100[\"species\"]))"
   ]
  },
  {
   "cell_type": "code",
   "execution_count": 5,
   "metadata": {},
   "outputs": [
    {
     "data": {
      "text/plain": [
       "3900"
      ]
     },
     "execution_count": 5,
     "metadata": {},
     "output_type": "execute_result"
    }
   ],
   "source": [
    "import pickle\n",
    "with open('Data/Accessions_100.pickle', 'rb') as handle:\n",
    "    Accessions = pickle.load(handle)\n",
    "len(Accessions)"
   ]
  },
  {
   "cell_type": "code",
   "execution_count": 6,
   "metadata": {},
   "outputs": [
    {
     "name": "stdout",
     "output_type": "stream",
     "text": [
      "3900\n"
     ]
    }
   ],
   "source": [
    "Sub_positions = []\n",
    "Sub_accessions = []\n",
    "for Acc in INDEX:\n",
    "    if Acc in Accessions:\n",
    "        Sub_positions.append(int(INDEX.index(Acc)))\n",
    "        Sub_accessions.append(Acc)\n",
    "print(len(Sub_positions))"
   ]
  },
  {
   "cell_type": "code",
   "execution_count": 7,
   "metadata": {},
   "outputs": [],
   "source": [
    "Sub_species = []\n",
    "for Acc in Sub_accessions:\n",
    "    Sub_species.append(Acc_to_species[Acc])"
   ]
  },
  {
   "cell_type": "code",
   "execution_count": 8,
   "metadata": {},
   "outputs": [],
   "source": [
    "Submatrix = df.iloc[Sub_positions, Sub_positions]"
   ]
  },
  {
   "cell_type": "markdown",
   "metadata": {},
   "source": [
    "### Run DBSCAN"
   ]
  },
  {
   "cell_type": "code",
   "execution_count": 9,
   "metadata": {},
   "outputs": [],
   "source": [
    "from sklearn.cluster import DBSCAN\n",
    "from sklearn import metrics\n",
    "from sklearn.metrics import silhouette_samples, silhouette_score"
   ]
  },
  {
   "cell_type": "code",
   "execution_count": 10,
   "metadata": {},
   "outputs": [],
   "source": [
    "def Run_DBSCAN(\n",
    "                Distances, \n",
    "                Epsilon, \n",
    "                Min_group, \n",
    "                Labels_true\n",
    "                ):\n",
    "\n",
    "    db = DBSCAN(eps=float(Epsilon), min_samples= int(Min_group), metric='precomputed').fit(Distances)\n",
    "\n",
    "    ### Parse Results from DBscan and Report ###\n",
    "    Point_labels = db.labels_\n",
    "    cluster_labels = np.unique(db.labels_)\n",
    "\n",
    "    n_clusters_ = len(cluster_labels) - (1 if -1 in cluster_labels else 0)\n",
    "    n_outliers_ = np.count_nonzero(Point_labels == -1)\n",
    "\n",
    "    ### Calculate scores\n",
    "    Homogeneity_score              =    metrics.homogeneity_score(Labels_true, Point_labels)\n",
    "    Completeness_score             =    metrics.completeness_score(Labels_true, Point_labels)\n",
    "\n",
    "    return [\n",
    "            n_clusters_ , \n",
    "            n_outliers_, \n",
    "            Homogeneity_score, \n",
    "            Completeness_score, \n",
    "            ], Point_labels"
   ]
  },
  {
   "cell_type": "code",
   "execution_count": 11,
   "metadata": {},
   "outputs": [],
   "source": [
    "def Run_Multi_DBSCAN(\n",
    "                        Labels_true, \n",
    "                        Distances, \n",
    "                        EPS_low        = 0.01, \n",
    "                        EPS_high       = 0.1, \n",
    "                        EPS_incr       = 0.001, \n",
    "                        Min_group_low  = 5, \n",
    "                        Min_group_high = 10, \n",
    "                        Min_group_incr = 1\n",
    "                    ):\n",
    "\n",
    "    All_Point_labels = []\n",
    "    Stats=[[\"Epsilon\", \"Min_group\", \"Clusters\", \"Outliers\", \"Homogeneity_score\", \"Completeness_score\"]]\n",
    "\n",
    "    for Min_group in range(int(Min_group_low), int(Min_group_high)+int(Min_group_incr), int(Min_group_incr)):\n",
    "        for Epsilon in range(int(EPS_low * 1000), int(EPS_high * 1000) + int(EPS_incr * 1000), int(EPS_incr * 1000)):\n",
    "            Stat, Point_labels = Run_DBSCAN(Distances, Epsilon * 0.001, Min_group, Labels_true)\n",
    "            Stats.append([str(Epsilon * 0.001), str(Min_group)] + Stat)\n",
    "            All_Point_labels.append(Point_labels)\n",
    "#             print(str(Epsilon * 0.001), str(Min_group))\n",
    "    return Stats, All_Point_labels"
   ]
  },
  {
   "cell_type": "code",
   "execution_count": 13,
   "metadata": {},
   "outputs": [],
   "source": [
    "Distances = Submatrix.values\n",
    "labels_true = Sub_species\n",
    "Multi_DBSCAN = Run_Multi_DBSCAN(labels_true,Distances, EPS_high = 0.3, EPS_low = 0.01, EPS_incr=0.005)"
   ]
  },
  {
   "cell_type": "code",
   "execution_count": 14,
   "metadata": {
    "scrolled": true
   },
   "outputs": [],
   "source": [
    "Silhouette_scores=[]\n",
    "i = 1\n",
    "for Point_labels in Multi_DBSCAN[1]:\n",
    "    silhouette_avg = silhouette_score(Distances, Point_labels)\n",
    "    Silhouette_scores.append(Multi_DBSCAN[0][i][:2] + [silhouette_avg])\n",
    "    i+=1"
   ]
  },
  {
   "cell_type": "code",
   "execution_count": 15,
   "metadata": {},
   "outputs": [],
   "source": [
    "Distances = Submatrix.values\n",
    "labels_true = Sub_species\n",
    "db = DBSCAN(eps=float(.16), min_samples= int(9), metric='precomputed').fit(Distances)"
   ]
  },
  {
   "cell_type": "code",
   "execution_count": 16,
   "metadata": {},
   "outputs": [
    {
     "name": "stdout",
     "output_type": "stream",
     "text": [
      "Silhouette score:\t 0.7684970336424115\n",
      "Homogeneity score:\t 0.983422005539123\n",
      "Completeness score:\t 0.966647356443984\n"
     ]
    }
   ],
   "source": [
    "Point_labels = db.labels_\n",
    "cluster_labels = np.unique(db.labels_)\n",
    "n_clusters_ = len(set(cluster_labels))\n",
    "n_outliers_ = np.count_nonzero(cluster_labels == -1)\n",
    "\n",
    "silhouette_avg        =    silhouette_score(Distances, Point_labels)\n",
    "Homogeneity_score     =    metrics.homogeneity_score(labels_true, Point_labels)\n",
    "Completeness_score    =    metrics.completeness_score(labels_true, Point_labels)\n",
    "\n",
    "print(\"Silhouette score:\\t\",silhouette_avg)\n",
    "print(\"Homogeneity score:\\t\",Homogeneity_score)\n",
    "print(\"Completeness score:\\t\",Completeness_score)"
   ]
  },
  {
   "cell_type": "markdown",
   "metadata": {},
   "source": [
    "### Plot Silhouette"
   ]
  },
  {
   "cell_type": "code",
   "execution_count": 17,
   "metadata": {},
   "outputs": [],
   "source": [
    "import matplotlib.pyplot as plt\n",
    "from matplotlib.pyplot import figure\n",
    "from matplotlib import cm\n"
   ]
  },
  {
   "cell_type": "code",
   "execution_count": 22,
   "metadata": {},
   "outputs": [
    {
     "data": {
      "image/png": "[encoded data removed]",
      "text/plain": [
       "<Figure size 1152x864 with 1 Axes>"
      ]
     },
     "metadata": {
      "needs_background": "light"
     },
     "output_type": "display_data"
    }
   ],
   "source": [
    "\n",
    "plt.rcParams[\"figure.figsize\"] = [16,12]\n",
    "silhouette_vals = silhouette_samples(Distances, Point_labels)\n",
    "y_ax_lower, y_ax_upper = 0, 0\n",
    "yticks=[]\n",
    "\n",
    "Scores=[]\n",
    "for i, c in enumerate(cluster_labels[1:]):\n",
    "    Cluster_score = []\n",
    "    c_silhouette_vals = silhouette_vals[Point_labels == c]\n",
    "    c_silhouette_vals.sort()\n",
    "    y_ax_upper += len(c_silhouette_vals)\n",
    "    color = cm.jet(i / n_clusters_)\n",
    "    ax = plt.barh(range(y_ax_lower,y_ax_upper),\n",
    "            c_silhouette_vals,\n",
    "            height = 1.0,\n",
    "            edgecolor='none',\n",
    "            color=color)\n",
    "    yticks.append((y_ax_lower + y_ax_upper) / 2)\n",
    "    y_ax_lower += len(c_silhouette_vals)\n",
    "    Cluster_score.append(c_silhouette_vals)\n",
    "    Scores.append([i, Cluster_score])\n",
    "silhouette_avg = np.mean(silhouette_vals)\n",
    "yline = plt.axvline(silhouette_avg,\n",
    "            color = \"black\",\n",
    "            linestyle=\"--\")\n",
    "yticks = plt.yticks(yticks, cluster_labels[1:] + 1)\n",
    "plt.savefig('Visualizations/ssRNA_complete_100_subsample_50000_sihouette.pdf')"
   ]
  },
  {
   "cell_type": "code",
   "execution_count": null,
   "metadata": {},
   "outputs": [],
   "source": []
  }
 ],
 "metadata": {
  "kernelspec": {
   "display_name": "Python 3",
   "language": "python",
   "name": "python3"
  },
  "language_info": {
   "codemirror_mode": {
    "name": "ipython",
    "version": 3
   },
   "file_extension": ".py",
   "mimetype": "text/x-python",
   "name": "python",
   "nbconvert_exporter": "python",
   "pygments_lexer": "ipython3",
   "version": "3.6.5"
  }
 },
 "nbformat": 4,
 "nbformat_minor": 2
}
