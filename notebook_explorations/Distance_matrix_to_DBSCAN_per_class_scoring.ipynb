{
 "cells": [
  {
   "cell_type": "code",
   "execution_count": 1,
   "metadata": {},
   "outputs": [],
   "source": [
    "### Distance Matrix to MDS"
   ]
  },
  {
   "cell_type": "markdown",
   "metadata": {},
   "source": [
    "### Get data"
   ]
  },
  {
   "cell_type": "code",
   "execution_count": 2,
   "metadata": {},
   "outputs": [],
   "source": [
    "import pandas as pd\n",
    "import numpy as np"
   ]
  },
  {
   "cell_type": "code",
   "execution_count": 3,
   "metadata": {},
   "outputs": [
    {
     "name": "stdout",
     "output_type": "stream",
     "text": [
      "3900\n"
     ]
    }
   ],
   "source": [
    "### Import distance matrix and remove Row labels\n",
    "df = pd.read_table(\"Data/ssRNA_complete_genomes_100_subsample_50000.dist\")\n",
    "df = df.drop(\"#query\", axis=1)\n",
    "### Get filenames from headers\n",
    "INDEX = list(df)\n",
    "print(len(INDEX))"
   ]
  },
  {
   "cell_type": "markdown",
   "metadata": {},
   "source": [
    "### Get metadata"
   ]
  },
  {
   "cell_type": "code",
   "execution_count": 4,
   "metadata": {},
   "outputs": [
    {
     "data": {
      "text/plain": [
       "3900"
      ]
     },
     "execution_count": 4,
     "metadata": {},
     "output_type": "execute_result"
    }
   ],
   "source": [
    "import pandas as pd\n",
    "df_Accessions_100 = pd.read_csv(\"Data/df_ssRNA_complete_100_subsample.tsv\", sep=\"\\t\")\n",
    "len(df_Accessions_100)"
   ]
  },
  {
   "cell_type": "code",
   "execution_count": 5,
   "metadata": {},
   "outputs": [],
   "source": [
    "Acc_to_species = dict(zip(df_Accessions_100[\"accs\"], df_Accessions_100[\"species\"]))"
   ]
  },
  {
   "cell_type": "code",
   "execution_count": 6,
   "metadata": {},
   "outputs": [
    {
     "data": {
      "text/plain": [
       "3900"
      ]
     },
     "execution_count": 6,
     "metadata": {},
     "output_type": "execute_result"
    }
   ],
   "source": [
    "import pickle\n",
    "with open('Data/Accessions_100.pickle', 'rb') as handle:\n",
    "    Accessions = pickle.load(handle)\n",
    "len(Accessions)"
   ]
  },
  {
   "cell_type": "code",
   "execution_count": 7,
   "metadata": {},
   "outputs": [
    {
     "name": "stdout",
     "output_type": "stream",
     "text": [
      "3900\n"
     ]
    }
   ],
   "source": [
    "Sub_positions = []\n",
    "Sub_accessions = []\n",
    "for Acc in INDEX:\n",
    "    if Acc in Accessions:\n",
    "        Sub_positions.append(int(INDEX.index(Acc)))\n",
    "        Sub_accessions.append(Acc)\n",
    "print(len(Sub_positions))"
   ]
  },
  {
   "cell_type": "code",
   "execution_count": 8,
   "metadata": {},
   "outputs": [],
   "source": [
    "Sub_species = []\n",
    "for Acc in Sub_accessions:\n",
    "    Sub_species.append(Acc_to_species[Acc])"
   ]
  },
  {
   "cell_type": "code",
   "execution_count": 9,
   "metadata": {},
   "outputs": [],
   "source": [
    "Submatrix = df.iloc[Sub_positions, Sub_positions]"
   ]
  },
  {
   "cell_type": "markdown",
   "metadata": {},
   "source": [
    "### Run DBSCAN"
   ]
  },
  {
   "cell_type": "code",
   "execution_count": 10,
   "metadata": {},
   "outputs": [],
   "source": [
    "from sklearn.cluster import DBSCAN\n",
    "from sklearn import metrics\n",
    "from sklearn.metrics import silhouette_samples, silhouette_score"
   ]
  },
  {
   "cell_type": "code",
   "execution_count": 11,
   "metadata": {},
   "outputs": [],
   "source": [
    "def Run_Multi_DBSCAN(\n",
    "                        Labels_true, \n",
    "                        Distances, \n",
    "                        EPS_low        = 0.01, \n",
    "                        EPS_high       = 0.1, \n",
    "                        EPS_incr       = 0.01, \n",
    "                        Min_group_low  = 5, \n",
    "                        Min_group_high = 10, \n",
    "                        Min_group_incr = 1\n",
    "                    ):\n",
    "\n",
    "\n",
    "    Run_scores =          [[\n",
    "                            \"Min_group\",\n",
    "                            \"Epsilon\",\n",
    "                            \"n_clusters_\",\n",
    "                            \"n_outliers_\",\n",
    "                            \"Run_score\",\n",
    "                            \"Homogeneity_score\",\n",
    "                            \"Completeness_score\"\n",
    "                         ]]\n",
    "    \n",
    "    All_Class_metadata = [[\n",
    "                            'Epsilon',\n",
    "                            'Min_group',\n",
    "                            \"Class\",\n",
    "                            \"Num_members\",\n",
    "                            \"Num_clustered_members\",\n",
    "                            \"Num_outlier_members\",\n",
    "                            \"Num_clusters\",\n",
    "                            \"Class_score\",\n",
    "                            \"Clusters\"\n",
    "                        ]]\n",
    "    for Min_group in range(int(Min_group_low), int(Min_group_high)+int(Min_group_incr), int(Min_group_incr)):\n",
    "        for Epsilon in range(int(EPS_low * 1000), int(EPS_high * 1000) + int(EPS_incr * 1000), int(EPS_incr * 1000)):\n",
    "            Run_score, Class_metadata = Run_DBSCAN(Distances, Labels_true, Epsilon * 0.001, Min_group)\n",
    "            Run_scores.append(Run_score)\n",
    "            All_Class_metadata.append(Class_metadata)\n",
    "    return Run_scores, All_Class_metadata"
   ]
  },
  {
   "cell_type": "code",
   "execution_count": 12,
   "metadata": {},
   "outputs": [],
   "source": [
    "from Modules.Distance_Matrix_DBScan import Run_DBSCAN"
   ]
  },
  {
   "cell_type": "code",
   "execution_count": 13,
   "metadata": {},
   "outputs": [],
   "source": [
    "Distances = Submatrix.values\n",
    "labels_true = Sub_species\n",
    "# db = DBSCAN(eps=float(.16), min_samples= int(9), metric='precomputed').fit(Distances)"
   ]
  },
  {
   "cell_type": "code",
   "execution_count": 14,
   "metadata": {},
   "outputs": [
    {
     "ename": "KeyboardInterrupt",
     "evalue": "",
     "output_type": "error",
     "traceback": [
      "\u001b[31m---------------------------------------------------------------------------\u001b[39m",
      "\u001b[31mKeyboardInterrupt\u001b[39m                         Traceback (most recent call last)",
      "\u001b[36mCell\u001b[39m\u001b[36m \u001b[39m\u001b[32mIn[14]\u001b[39m\u001b[32m, line 1\u001b[39m\n\u001b[32m----> \u001b[39m\u001b[32m1\u001b[39m Run_scores, All_Class_metadata = \u001b[43mRun_Multi_DBSCAN\u001b[49m\u001b[43m(\u001b[49m\n\u001b[32m      2\u001b[39m \u001b[43m                                                    \u001b[49m\u001b[43mlabels_true\u001b[49m\u001b[43m,\u001b[49m\n\u001b[32m      3\u001b[39m \u001b[43m                                                    \u001b[49m\u001b[43mDistances\u001b[49m\u001b[43m,\u001b[49m\n\u001b[32m      4\u001b[39m \u001b[43m                                                    \u001b[49m\u001b[43mEPS_low\u001b[49m\u001b[43m        \u001b[49m\u001b[43m=\u001b[49m\u001b[43m \u001b[49m\u001b[32;43m0.001\u001b[39;49m\u001b[43m,\u001b[49m\u001b[43m \u001b[49m\n\u001b[32m      5\u001b[39m \u001b[43m                                                    \u001b[49m\u001b[43mEPS_high\u001b[49m\u001b[43m       \u001b[49m\u001b[43m=\u001b[49m\u001b[43m \u001b[49m\u001b[32;43m1.0\u001b[39;49m\u001b[43m,\u001b[49m\u001b[43m \u001b[49m\n\u001b[32m      6\u001b[39m \u001b[43m                                                    \u001b[49m\u001b[43mEPS_incr\u001b[49m\u001b[43m       \u001b[49m\u001b[43m=\u001b[49m\u001b[43m \u001b[49m\u001b[32;43m0.001\u001b[39;49m\u001b[43m,\u001b[49m\u001b[43m \u001b[49m\n\u001b[32m      7\u001b[39m \u001b[43m                                                    \u001b[49m\u001b[43mMin_group_low\u001b[49m\u001b[43m  \u001b[49m\u001b[43m=\u001b[49m\u001b[43m \u001b[49m\u001b[32;43m5\u001b[39;49m\u001b[43m,\u001b[49m\u001b[43m \u001b[49m\n\u001b[32m      8\u001b[39m \u001b[43m                                                    \u001b[49m\u001b[43mMin_group_high\u001b[49m\u001b[43m \u001b[49m\u001b[43m=\u001b[49m\u001b[43m \u001b[49m\u001b[32;43m10\u001b[39;49m\u001b[43m,\u001b[49m\u001b[43m \u001b[49m\n\u001b[32m      9\u001b[39m \u001b[43m                                                    \u001b[49m\u001b[43mMin_group_incr\u001b[49m\u001b[43m \u001b[49m\u001b[43m=\u001b[49m\u001b[43m \u001b[49m\u001b[32;43m1\u001b[39;49m\n\u001b[32m     10\u001b[39m \u001b[43m                                                \u001b[49m\u001b[43m)\u001b[49m\n",
      "\u001b[36mCell\u001b[39m\u001b[36m \u001b[39m\u001b[32mIn[11]\u001b[39m\u001b[32m, line 36\u001b[39m, in \u001b[36mRun_Multi_DBSCAN\u001b[39m\u001b[34m(Labels_true, Distances, EPS_low, EPS_high, EPS_incr, Min_group_low, Min_group_high, Min_group_incr)\u001b[39m\n\u001b[32m     34\u001b[39m \u001b[38;5;28;01mfor\u001b[39;00m Min_group \u001b[38;5;129;01min\u001b[39;00m \u001b[38;5;28mrange\u001b[39m(\u001b[38;5;28mint\u001b[39m(Min_group_low), \u001b[38;5;28mint\u001b[39m(Min_group_high)+\u001b[38;5;28mint\u001b[39m(Min_group_incr), \u001b[38;5;28mint\u001b[39m(Min_group_incr)):\n\u001b[32m     35\u001b[39m     \u001b[38;5;28;01mfor\u001b[39;00m Epsilon \u001b[38;5;129;01min\u001b[39;00m \u001b[38;5;28mrange\u001b[39m(\u001b[38;5;28mint\u001b[39m(EPS_low * \u001b[32m1000\u001b[39m), \u001b[38;5;28mint\u001b[39m(EPS_high * \u001b[32m1000\u001b[39m) + \u001b[38;5;28mint\u001b[39m(EPS_incr * \u001b[32m1000\u001b[39m), \u001b[38;5;28mint\u001b[39m(EPS_incr * \u001b[32m1000\u001b[39m)):\n\u001b[32m---> \u001b[39m\u001b[32m36\u001b[39m         Run_score, Class_metadata = \u001b[43mRun_DBSCAN\u001b[49m\u001b[43m(\u001b[49m\u001b[43mDistances\u001b[49m\u001b[43m,\u001b[49m\u001b[43m \u001b[49m\u001b[43mLabels_true\u001b[49m\u001b[43m,\u001b[49m\u001b[43m \u001b[49m\u001b[43mEpsilon\u001b[49m\u001b[43m \u001b[49m\u001b[43m*\u001b[49m\u001b[43m \u001b[49m\u001b[32;43m0.001\u001b[39;49m\u001b[43m,\u001b[49m\u001b[43m \u001b[49m\u001b[43mMin_group\u001b[49m\u001b[43m)\u001b[49m\n\u001b[32m     37\u001b[39m         Run_scores.append(Run_score)\n\u001b[32m     38\u001b[39m         All_Class_metadata.append(Class_metadata)\n",
      "\u001b[36mFile \u001b[39m\u001b[32m~/bin/old_projects/Genome_matrix_MDS/Modules/Distance_Matrix_DBScan.py:25\u001b[39m, in \u001b[36mRun_DBSCAN\u001b[39m\u001b[34m(Data, Labels_true, Epsilon, Min_group)\u001b[39m\n\u001b[32m     14\u001b[39m \u001b[38;5;28;01mdef\u001b[39;00m\u001b[38;5;250m \u001b[39m\u001b[34mRun_DBSCAN\u001b[39m\t(\n\u001b[32m     15\u001b[39m \t\t\t\t\tData,\n\u001b[32m     16\u001b[39m \t\t\t\t\tLabels_true,\n\u001b[32m   (...)\u001b[39m\u001b[32m     22\u001b[39m \t\u001b[38;5;66;03m### Run DBSCAN ###\u001b[39;00m\n\u001b[32m     23\u001b[39m \t\u001b[38;5;66;03m##################\u001b[39;00m\n\u001b[32m---> \u001b[39m\u001b[32m25\u001b[39m \tdb = \u001b[43mDBSCAN\u001b[49m\u001b[43m(\u001b[49m\u001b[43meps\u001b[49m\u001b[43m=\u001b[49m\u001b[38;5;28;43mfloat\u001b[39;49m\u001b[43m(\u001b[49m\u001b[43mEpsilon\u001b[49m\u001b[43m)\u001b[49m\u001b[43m,\u001b[49m\u001b[43m \u001b[49m\u001b[43mmin_samples\u001b[49m\u001b[43m=\u001b[49m\u001b[43m \u001b[49m\u001b[38;5;28;43mint\u001b[39;49m\u001b[43m(\u001b[49m\u001b[43mMin_group\u001b[49m\u001b[43m)\u001b[49m\u001b[43m,\u001b[49m\u001b[43m \u001b[49m\u001b[43mmetric\u001b[49m\u001b[43m=\u001b[49m\u001b[33;43m'\u001b[39;49m\u001b[33;43mprecomputed\u001b[39;49m\u001b[33;43m'\u001b[39;49m\u001b[43m)\u001b[49m\u001b[43m.\u001b[49m\u001b[43mfit\u001b[49m\u001b[43m(\u001b[49m\u001b[43mData\u001b[49m\u001b[43m)\u001b[49m\n\u001b[32m     27\u001b[39m \t\u001b[38;5;66;03m############################################\u001b[39;00m\n\u001b[32m     28\u001b[39m \t\u001b[38;5;66;03m### Parse Results from DBscan and Report ###\u001b[39;00m\n\u001b[32m     29\u001b[39m \t\u001b[38;5;66;03m############################################\u001b[39;00m\n\u001b[32m     31\u001b[39m \tlabels = db.labels_\n",
      "\u001b[36mFile \u001b[39m\u001b[32m/opt/miniconda3/envs/matrix-factorization/lib/python3.11/site-packages/sklearn/base.py:1389\u001b[39m, in \u001b[36m_fit_context.<locals>.decorator.<locals>.wrapper\u001b[39m\u001b[34m(estimator, *args, **kwargs)\u001b[39m\n\u001b[32m   1382\u001b[39m     estimator._validate_params()\n\u001b[32m   1384\u001b[39m \u001b[38;5;28;01mwith\u001b[39;00m config_context(\n\u001b[32m   1385\u001b[39m     skip_parameter_validation=(\n\u001b[32m   1386\u001b[39m         prefer_skip_nested_validation \u001b[38;5;129;01mor\u001b[39;00m global_skip_validation\n\u001b[32m   1387\u001b[39m     )\n\u001b[32m   1388\u001b[39m ):\n\u001b[32m-> \u001b[39m\u001b[32m1389\u001b[39m     \u001b[38;5;28;01mreturn\u001b[39;00m \u001b[43mfit_method\u001b[49m\u001b[43m(\u001b[49m\u001b[43mestimator\u001b[49m\u001b[43m,\u001b[49m\u001b[43m \u001b[49m\u001b[43m*\u001b[49m\u001b[43margs\u001b[49m\u001b[43m,\u001b[49m\u001b[43m \u001b[49m\u001b[43m*\u001b[49m\u001b[43m*\u001b[49m\u001b[43mkwargs\u001b[49m\u001b[43m)\u001b[49m\n",
      "\u001b[36mFile \u001b[39m\u001b[32m/opt/miniconda3/envs/matrix-factorization/lib/python3.11/site-packages/sklearn/cluster/_dbscan.py:439\u001b[39m, in \u001b[36mDBSCAN.fit\u001b[39m\u001b[34m(self, X, y, sample_weight)\u001b[39m\n\u001b[32m    435\u001b[39m \u001b[38;5;28mself\u001b[39m.labels_ = labels\n\u001b[32m    437\u001b[39m \u001b[38;5;28;01mif\u001b[39;00m \u001b[38;5;28mlen\u001b[39m(\u001b[38;5;28mself\u001b[39m.core_sample_indices_):\n\u001b[32m    438\u001b[39m     \u001b[38;5;66;03m# fix for scipy sparse indexing issue\u001b[39;00m\n\u001b[32m--> \u001b[39m\u001b[32m439\u001b[39m     \u001b[38;5;28mself\u001b[39m.components_ = X[\u001b[38;5;28mself\u001b[39m.core_sample_indices_].copy()\n\u001b[32m    440\u001b[39m \u001b[38;5;28;01melse\u001b[39;00m:\n\u001b[32m    441\u001b[39m     \u001b[38;5;66;03m# no core samples\u001b[39;00m\n\u001b[32m    442\u001b[39m     \u001b[38;5;28mself\u001b[39m.components_ = np.empty((\u001b[32m0\u001b[39m, X.shape[\u001b[32m1\u001b[39m]))\n",
      "\u001b[31mKeyboardInterrupt\u001b[39m: "
     ]
    }
   ],
   "source": [
    "%%capture\n",
    "Run_scores, All_Class_metadata = Run_Multi_DBSCAN(\n",
    "                                                    labels_true,\n",
    "                                                    Distances,\n",
    "                                                    EPS_low        = 0.001, \n",
    "                                                    EPS_high       = 1.0, \n",
    "                                                    EPS_incr       = 0.001, \n",
    "                                                    Min_group_low  = 5, \n",
    "                                                    Min_group_high = 10, \n",
    "                                                    Min_group_incr = 1\n",
    "                                                )"
   ]
  },
  {
   "cell_type": "code",
   "execution_count": null,
   "metadata": {},
   "outputs": [],
   "source": []
  },
  {
   "cell_type": "code",
   "execution_count": 15,
   "metadata": {},
   "outputs": [
    {
     "ename": "NameError",
     "evalue": "name 'Run_scores' is not defined",
     "output_type": "error",
     "traceback": [
      "\u001b[31m---------------------------------------------------------------------------\u001b[39m",
      "\u001b[31mNameError\u001b[39m                                 Traceback (most recent call last)",
      "\u001b[36mCell\u001b[39m\u001b[36m \u001b[39m\u001b[32mIn[15]\u001b[39m\u001b[32m, line 1\u001b[39m\n\u001b[32m----> \u001b[39m\u001b[32m1\u001b[39m Run_scores = pd.DataFrame(\u001b[43mRun_scores\u001b[49m[\u001b[32m1\u001b[39m:], columns=Run_scores[\u001b[32m0\u001b[39m])\n",
      "\u001b[31mNameError\u001b[39m: name 'Run_scores' is not defined"
     ]
    }
   ],
   "source": [
    "Run_scores = pd.DataFrame(Run_scores[1:], columns=Run_scores[0])"
   ]
  },
  {
   "cell_type": "code",
   "execution_count": null,
   "metadata": {},
   "outputs": [],
   "source": [
    "Run_scores.to_csv(\"Data/df_ssRNA_complete_genomes_100_subsample_50000_DBSCAN_Run_scores.tsv\", sep=\"\\t\")"
   ]
  },
  {
   "cell_type": "code",
   "execution_count": null,
   "metadata": {},
   "outputs": [],
   "source": [
    "All_Class_metadata2 = []\n",
    "for Entry in All_Class_metadata[1:]:\n",
    "    for E in Entry:\n",
    "        All_Class_metadata2.append(E)\n",
    "df_All_Class_metadata = pd.DataFrame(All_Class_metadata2, columns=All_Class_metadata[0])"
   ]
  },
  {
   "cell_type": "code",
   "execution_count": null,
   "metadata": {},
   "outputs": [],
   "source": [
    "df_All_Class_metadata.to_csv(\"Data/df_ssRNA_complete_genomes_100_subsample_50000_DBSCAN_per_class_scoring.tsv\", sep=\"\\t\")"
   ]
  },
  {
   "cell_type": "code",
   "execution_count": null,
   "metadata": {},
   "outputs": [],
   "source": [
    "import seaborn as sns\n",
    "import matplotlib.pyplot as plt\n",
    "for index, data in df_All_Class_metadata[df_All_Class_metadata[\"Min_group\"] == 9].groupby(\"Class\"):\n",
    "    sns.scatterplot(\n",
    "                    x=data[\"Epsilon\"], \n",
    "                    y=data[\"Class_score\"],\n",
    "                    s=5,\n",
    "                    edgecolor=None\n",
    "                    ).set_title(index)\n",
    "    plt.show()"
   ]
  },
  {
   "cell_type": "code",
   "execution_count": null,
   "metadata": {},
   "outputs": [],
   "source": []
  }
 ],
 "metadata": {
  "kernelspec": {
   "display_name": "Python 3 (ipykernel)",
   "language": "python",
   "name": "python3"
  },
  "language_info": {
   "codemirror_mode": {
    "name": "ipython",
    "version": 3
   },
   "file_extension": ".py",
   "mimetype": "text/x-python",
   "name": "python",
   "nbconvert_exporter": "python",
   "pygments_lexer": "ipython3",
   "version": "3.11.0"
  }
 },
 "nbformat": 4,
 "nbformat_minor": 4
}
