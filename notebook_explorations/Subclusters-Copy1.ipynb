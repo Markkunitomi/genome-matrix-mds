{
 "cells": [
  {
   "cell_type": "code",
   "execution_count": 1,
   "metadata": {},
   "outputs": [],
   "source": [
    "import pandas as pd\n",
    "import gzip"
   ]
  },
  {
   "cell_type": "code",
   "execution_count": 15,
   "metadata": {},
   "outputs": [],
   "source": [
    "def taxID_to_SciName(Path=\"Data/sci_names.dmp.gz\"):\n",
    "    with gzip.open(Path, \"rt\") as file:\n",
    "        Name_Lines = [Entry.split(\"\\t\") for Entry in file.readlines()]\n",
    "\n",
    "    taxID_to_SciName = {}\n",
    "    for Entry in Name_Lines:\n",
    "        taxID_to_SciName[Entry[0]] = Entry[3]\n",
    "    \n",
    "    return taxID_to_SciName"
   ]
  },
  {
   "cell_type": "code",
   "execution_count": 10,
   "metadata": {},
   "outputs": [],
   "source": [
    "def Accessions_to_lineages(Path=\"Data/GenBank_Bacterial_taxID_lineage.tsv.gz\",\n",
    "                           Path2=\"Data/IBM_assemblies_taxonomy_metadata.tsv.gz\"\n",
    "                          ):\n",
    "    ### Get files\n",
    "    with gzip.open(Path, \"rt\") as file:\n",
    "        GB_Lines = [Entry.split(\"\\t\") for Entry in file.readlines()]\n",
    "\n",
    "    with gzip.open(Path2, \"rt\") as file:\n",
    "        IBM_Lines = [Entry.split(\"\\t\") for Entry in file.readlines()]\n",
    "        \n",
    "    Acc_to_Lineage = {}\n",
    "    Acc_to_Rank = {}\n",
    "\n",
    "    ### GenBank\n",
    "    for Line in GB_Lines[1:]:\n",
    "\n",
    "        Accession = Line[0].split(\".\")[0]\n",
    "\n",
    "        taxID = Line[1]\n",
    "\n",
    "        taxID_lineage = Line[2].split(\",\")\n",
    "        Rank_lineage = Line[4].split(\",\")\n",
    "\n",
    "\n",
    "        Acc_to_Lineage[Accession] = taxID_lineage\n",
    "        Acc_to_Rank[Accession] = Rank_lineage\n",
    "\n",
    "    ### IBM\n",
    "    for Line in IBM_Lines[1:]:\n",
    "        Accession = Line[0]\n",
    "\n",
    "        taxID = Line[1]\n",
    "\n",
    "        taxID_lineage = Line[2].split(\",\")\n",
    "        Rank_lineage = Line[4].split(\",\")\n",
    "\n",
    "\n",
    "        Acc_to_Lineage[Accession] = taxID_lineage\n",
    "        Acc_to_Rank[Accession] = Rank_lineage\n",
    "    \n",
    "    print(len(Acc_to_Lineage))\n",
    "    return Acc_to_Lineage"
   ]
  },
  {
   "cell_type": "code",
   "execution_count": 16,
   "metadata": {},
   "outputs": [],
   "source": [
    "taxID_to_SciName = taxID_to_SciName()"
   ]
  },
  {
   "cell_type": "code",
   "execution_count": 12,
   "metadata": {},
   "outputs": [
    {
     "name": "stdout",
     "output_type": "stream",
     "text": [
      "425473\n"
     ]
    }
   ],
   "source": [
    "Acc_to_Lineage = Accessions_to_lineages()"
   ]
  },
  {
   "cell_type": "code",
   "execution_count": 8,
   "metadata": {},
   "outputs": [],
   "source": []
  },
  {
   "cell_type": "code",
   "execution_count": 18,
   "metadata": {},
   "outputs": [],
   "source": [
    "df = pd.read_table(\"Data/mash_dist.k21.s1000.txt.gz\")\n",
    "df = df.drop(\"#query\", axis=1)"
   ]
  },
  {
   "cell_type": "code",
   "execution_count": 21,
   "metadata": {},
   "outputs": [],
   "source": [
    "def Get_accessions(Headers):\n",
    "    Accessions = []\n",
    "    for row in Headers:\n",
    "        entry = row.split(\"/\")[-1]\n",
    "        if entry.startswith(\"GCA\"):\n",
    "            entry = entry.split(\".\")[0]\n",
    "        if entry.startswith(\"GCF\"):         \n",
    "                entry = entry.split(\".\")[0]\n",
    "                entry = entry.replace(\"GCF\", \"GCA\")\n",
    "        if \"-\" in entry:\n",
    "            entry = entry.split(\"-\")[0]\n",
    "        Accessions.append(entry)\n",
    "    return Accessions\n",
    "    # print(len(list(df)))    \n",
    "    # print(len(Accessions))\n",
    "    \n",
    "Accessions = Get_accessions(list(df))"
   ]
  },
  {
   "cell_type": "code",
   "execution_count": null,
   "metadata": {},
   "outputs": [],
   "source": []
  },
  {
   "cell_type": "code",
   "execution_count": 22,
   "metadata": {},
   "outputs": [],
   "source": [
    "Lineages_dict = {}\n",
    "Rank_dict = {}\n",
    "for Entry in set(Accessions):\n",
    "    try:\n",
    "        Lineages_dict[Entry] = Acc_to_Lineage[Entry]\n",
    "        Rank_dict[Entry] = Acc_to_Rank[Entry]\n",
    "    except:\n",
    "        Lineages_dict[Entry] = \"NA\"\n",
    "        Rank_dict[Entry] = \"NA\"\n",
    "#         print(Entry)\n"
   ]
  },
  {
   "cell_type": "raw",
   "metadata": {},
   "source": [
    "Sub_positions = []\n",
    "Sub_accessions = []\n",
    "for Acc in Accessions:\n",
    "    Lineage = Lineages_dict[Acc]\n",
    "    if  '543' in Lineage:\n",
    "        Sub_positions.append(int(Accessions.index(Acc)))\n",
    "        Sub_accessions.append(Acc)\n",
    "print(len(Sub_positions))"
   ]
  },
  {
   "cell_type": "code",
   "execution_count": 118,
   "metadata": {},
   "outputs": [
    {
     "name": "stdout",
     "output_type": "stream",
     "text": [
      "1477\n"
     ]
    }
   ],
   "source": [
    "Sub_species = []\n",
    "i=1\n",
    "for Acc in Sub_accessions:\n",
    "    try:\n",
    "        Lineage = Lineages_dict[Acc]\n",
    "        Ranks_Lineage = Rank_dict[Acc]\n",
    "        Index = Ranks_Lineage.index(\"species\")\n",
    "        Sub_species.append(taxID_to_SciName[Lineage[Index]])\n",
    "    except:\n",
    "#         print(Lineage, Ranks_Lineage, Index)\n",
    "        Sub_species.append(\"NA{}\".format(i))\n",
    "        i+=1\n",
    "print(len(Sub_species))"
   ]
  },
  {
   "cell_type": "code",
   "execution_count": 119,
   "metadata": {},
   "outputs": [
    {
     "name": "stdout",
     "output_type": "stream",
     "text": [
      "1477\n"
     ]
    }
   ],
   "source": [
    "Sub_genus = []\n",
    "i=1\n",
    "for Acc in Sub_accessions:\n",
    "    try:\n",
    "        Lineage = Lineages_dict[Acc]\n",
    "        Ranks_Lineage = Rank_dict[Acc]\n",
    "        Index = Ranks_Lineage.index(\"genus\")\n",
    "        Sub_genus.append(taxID_to_SciName[Lineage[Index]])\n",
    "    except:\n",
    "#         print(Lineage, Ranks_Lineage, Index)\n",
    "        Sub_genus.append(\"NA{}\".format(i))\n",
    "        i+=1\n",
    "print(len(Sub_genus))"
   ]
  },
  {
   "cell_type": "code",
   "execution_count": 120,
   "metadata": {},
   "outputs": [],
   "source": [
    "Submatrix = df.iloc[Sub_positions, Sub_positions]\n",
    "# Submatrix.head()"
   ]
  },
  {
   "cell_type": "code",
   "execution_count": 121,
   "metadata": {},
   "outputs": [],
   "source": [
    "import matplotlib\n",
    "from matplotlib import pyplot as plt\n",
    "from matplotlib import pylab\n",
    "import matplotlib.colors as colors\n",
    "from matplotlib import cm\n",
    "import numpy as np\n",
    "from adjustText import adjust_text\n",
    "from sklearn import manifold "
   ]
  },
  {
   "cell_type": "code",
   "execution_count": 122,
   "metadata": {},
   "outputs": [],
   "source": [
    "mds = manifold.MDS(n_components=2, dissimilarity=\"precomputed\", random_state=2)\n",
    "results = mds.fit(Submatrix)"
   ]
  },
  {
   "cell_type": "code",
   "execution_count": 126,
   "metadata": {},
   "outputs": [
    {
     "data": {
      "text/html": [
       "<div>\n",
       "<style scoped>\n",
       "    .dataframe tbody tr th:only-of-type {\n",
       "        vertical-align: middle;\n",
       "    }\n",
       "\n",
       "    .dataframe tbody tr th {\n",
       "        vertical-align: top;\n",
       "    }\n",
       "\n",
       "    .dataframe thead th {\n",
       "        text-align: right;\n",
       "    }\n",
       "</style>\n",
       "<table border=\"1\" class=\"dataframe\">\n",
       "  <thead>\n",
       "    <tr style=\"text-align: right;\">\n",
       "      <th></th>\n",
       "      <th>x</th>\n",
       "      <th>y</th>\n",
       "      <th>label</th>\n",
       "      <th>Species</th>\n",
       "      <th>Species count</th>\n",
       "      <th>Genus</th>\n",
       "      <th>Genus count</th>\n",
       "    </tr>\n",
       "  </thead>\n",
       "  <tbody>\n",
       "    <tr>\n",
       "      <th>0</th>\n",
       "      <td>-0.023312</td>\n",
       "      <td>0.095658</td>\n",
       "      <td>GCA_001953695</td>\n",
       "      <td>Salmonella enterica</td>\n",
       "      <td>418</td>\n",
       "      <td>Salmonella</td>\n",
       "      <td>422</td>\n",
       "    </tr>\n",
       "    <tr>\n",
       "      <th>1</th>\n",
       "      <td>0.152763</td>\n",
       "      <td>-0.001861</td>\n",
       "      <td>GCA_002192315</td>\n",
       "      <td>Klebsiella pneumoniae</td>\n",
       "      <td>229</td>\n",
       "      <td>Klebsiella</td>\n",
       "      <td>284</td>\n",
       "    </tr>\n",
       "    <tr>\n",
       "      <th>2</th>\n",
       "      <td>-0.043283</td>\n",
       "      <td>-0.088255</td>\n",
       "      <td>GCA_002945135</td>\n",
       "      <td>Escherichia coli</td>\n",
       "      <td>578</td>\n",
       "      <td>Escherichia</td>\n",
       "      <td>587</td>\n",
       "    </tr>\n",
       "    <tr>\n",
       "      <th>3</th>\n",
       "      <td>-0.027072</td>\n",
       "      <td>0.092449</td>\n",
       "      <td>GCA_000493295</td>\n",
       "      <td>Salmonella enterica</td>\n",
       "      <td>418</td>\n",
       "      <td>Salmonella</td>\n",
       "      <td>422</td>\n",
       "    </tr>\n",
       "    <tr>\n",
       "      <th>4</th>\n",
       "      <td>-0.039734</td>\n",
       "      <td>-0.104414</td>\n",
       "      <td>GCA_000743255</td>\n",
       "      <td>Escherichia coli</td>\n",
       "      <td>578</td>\n",
       "      <td>Escherichia</td>\n",
       "      <td>587</td>\n",
       "    </tr>\n",
       "  </tbody>\n",
       "</table>\n",
       "</div>"
      ],
      "text/plain": [
       "          x         y          label                Species  Species count  \\\n",
       "0 -0.023312  0.095658  GCA_001953695    Salmonella enterica            418   \n",
       "1  0.152763 -0.001861  GCA_002192315  Klebsiella pneumoniae            229   \n",
       "2 -0.043283 -0.088255  GCA_002945135       Escherichia coli            578   \n",
       "3 -0.027072  0.092449  GCA_000493295    Salmonella enterica            418   \n",
       "4 -0.039734 -0.104414  GCA_000743255       Escherichia coli            578   \n",
       "\n",
       "         Genus  Genus count  \n",
       "0   Salmonella          422  \n",
       "1   Klebsiella          284  \n",
       "2  Escherichia          587  \n",
       "3   Salmonella          422  \n",
       "4  Escherichia          587  "
      ]
     },
     "execution_count": 126,
     "metadata": {},
     "output_type": "execute_result"
    }
   ],
   "source": [
    "### Create plot\n",
    "coords = results.embedding_\n",
    "Plot = pd.DataFrame(dict(x=coords[:, 0], y=coords[:, 1], label=Sub_accessions))\n",
    "Plot[\"Species\"] = Sub_species\n",
    "Plot[\"Species count\"] =  Plot.groupby('Species')['Species'].transform('count')\n",
    "Plot[\"Genus\"] = Sub_genus\n",
    "Plot[\"Genus count\"] =  Plot.groupby('Genus')['Genus'].transform('count')\n",
    "Plot.head()"
   ]
  },
  {
   "cell_type": "code",
   "execution_count": 2,
   "metadata": {},
   "outputs": [
    {
     "ename": "NameError",
     "evalue": "name 'plt' is not defined",
     "output_type": "error",
     "traceback": [
      "\u001b[0;31m---------------------------------------------------------------------------\u001b[0m",
      "\u001b[0;31mNameError\u001b[0m                                 Traceback (most recent call last)",
      "\u001b[0;32m<ipython-input-2-63ba5402caca>\u001b[0m in \u001b[0;36m<module>\u001b[0;34m()\u001b[0m\n\u001b[1;32m      1\u001b[0m \u001b[0;31m### Plot parameters\u001b[0m\u001b[0;34m\u001b[0m\u001b[0;34m\u001b[0m\u001b[0m\n\u001b[0;32m----> 2\u001b[0;31m \u001b[0mfig_size\u001b[0m \u001b[0;34m=\u001b[0m \u001b[0mplt\u001b[0m\u001b[0;34m.\u001b[0m\u001b[0mrcParams\u001b[0m\u001b[0;34m[\u001b[0m\u001b[0;34m\"figure.figsize\"\u001b[0m\u001b[0;34m]\u001b[0m\u001b[0;34m\u001b[0m\u001b[0m\n\u001b[0m\u001b[1;32m      3\u001b[0m \u001b[0mfig_size\u001b[0m\u001b[0;34m[\u001b[0m\u001b[0;36m0\u001b[0m\u001b[0;34m]\u001b[0m \u001b[0;34m=\u001b[0m \u001b[0;36m12\u001b[0m\u001b[0;34m\u001b[0m\u001b[0m\n\u001b[1;32m      4\u001b[0m \u001b[0mfig_size\u001b[0m\u001b[0;34m[\u001b[0m\u001b[0;36m1\u001b[0m\u001b[0;34m]\u001b[0m \u001b[0;34m=\u001b[0m \u001b[0;36m9\u001b[0m\u001b[0;34m\u001b[0m\u001b[0m\n\u001b[1;32m      5\u001b[0m \u001b[0mplt\u001b[0m\u001b[0;34m.\u001b[0m\u001b[0mrcParams\u001b[0m\u001b[0;34m[\u001b[0m\u001b[0;34m\"figure.figsize\"\u001b[0m\u001b[0;34m]\u001b[0m \u001b[0;34m=\u001b[0m \u001b[0mfig_size\u001b[0m\u001b[0;34m\u001b[0m\u001b[0m\n",
      "\u001b[0;31mNameError\u001b[0m: name 'plt' is not defined"
     ]
    }
   ],
   "source": [
    "### Plot parameters\n",
    "fig_size = plt.rcParams[\"figure.figsize\"]\n",
    "fig_size[0] = 12\n",
    "fig_size[1] = 9\n",
    "plt.rcParams[\"figure.figsize\"] = fig_size\n",
    "\n",
    "### Plot\n",
    "groups = Plot.groupby('Species')\n",
    "Filtered_Plot=groups.filter(lambda x: x[\"Species count\"].count()>6)\n",
    "groups = Filtered_Plot.groupby('Species')\n",
    "\n",
    "fig, ax = plt.subplots()\n",
    "ax.margins(0.2) # Optional, just adds 5% padding to the autoscaling\n",
    "\n",
    "colors = cm.tab10(np.linspace(0, 1, len(groups)))\n",
    "alphas = np.linspace(.2, .8, len(groups))\n",
    "for group, color, alpha in zip(groups, colors, alphas):\n",
    "    ax.plot(group[1].x, \n",
    "            group[1].y, \n",
    "            marker='o', \n",
    "            linestyle='', \n",
    "            ms=10, \n",
    "            label=group[0], \n",
    "            c=color, \n",
    "            markeredgecolor='k', \n",
    "            alpha=(float(1)/float(len(group[1])**(.1)))\n",
    "           )\n",
    "\n",
    "lgd = pylab.legend()\n",
    "# ax.legend_.remove()\n",
    "ax.xscale('symlog')\n",
    "ax.yscale('symlog')\n",
    "plt.show()"
   ]
  },
  {
   "cell_type": "code",
   "execution_count": null,
   "metadata": {},
   "outputs": [],
   "source": []
  },
  {
   "cell_type": "code",
   "execution_count": null,
   "metadata": {},
   "outputs": [],
   "source": []
  }
 ],
 "metadata": {
  "kernelspec": {
   "display_name": "Python 3",
   "language": "python",
   "name": "python3"
  },
  "language_info": {
   "codemirror_mode": {
    "name": "ipython",
    "version": 3
   },
   "file_extension": ".py",
   "mimetype": "text/x-python",
   "name": "python",
   "nbconvert_exporter": "python",
   "pygments_lexer": "ipython3",
   "version": "3.6.5"
  }
 },
 "nbformat": 4,
 "nbformat_minor": 2
}
