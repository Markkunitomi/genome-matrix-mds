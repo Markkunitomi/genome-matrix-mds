{
 "cells": [
  {
   "cell_type": "code",
   "execution_count": 1,
   "metadata": {},
   "outputs": [],
   "source": [
    "### Distance Matrix to MDS"
   ]
  },
  {
   "cell_type": "markdown",
   "metadata": {},
   "source": [
    "### Get data"
   ]
  },
  {
   "cell_type": "code",
   "execution_count": 1,
   "metadata": {},
   "outputs": [],
   "source": [
    "import pandas as pd\n",
    "import numpy as np"
   ]
  },
  {
   "cell_type": "code",
   "execution_count": 2,
   "metadata": {},
   "outputs": [
    {
     "name": "stdout",
     "output_type": "stream",
     "text": [
      "31\n"
     ]
    }
   ],
   "source": [
    "### Import distance matrix and remove Row labels\n",
    "df = pd.read_table(\"Data/distance_group_49.txt\", index_col=0)\n",
    "### Get filenames from headers\n",
    "INDEX = df.index\n",
    "print(len(INDEX))"
   ]
  },
  {
   "cell_type": "markdown",
   "metadata": {},
   "source": [
    "### Get metadata"
   ]
  },
  {
   "cell_type": "code",
   "execution_count": 3,
   "metadata": {},
   "outputs": [],
   "source": [
    "Outbreak_dict = {\n",
    "                    \"463\" : \"1408MLGX6-3WGS\",\n",
    "                    \"459\" : \"1408MLGX6-3WGS\",\n",
    "                    \"473\" : \"1408MLGX6-3WGS\",\n",
    "                    \"465\" : \"1408MLGX6-3WGS\",\n",
    "                    \"479\" : \"1408MLGX6-3WGS\",\n",
    "                    \"472\" : \"1408MLGX6-3WGS\",\n",
    "                    \"469\" : \"1408MLGX6-3WGS\",\n",
    "                    \"451\" : \"1408MLGX6-3WGS\",\n",
    "                    \"475\" : \"1408MLGX6-3WGS\",\n",
    "                    \"466\" : \"1408MLGX6-3WGS\",\n",
    "                    \"455\" : \"1408MLGX6-3WGS\",\n",
    "                    \"460\" : \"1408MLGX6-3WGS\",\n",
    "                    \"457\" : \"1408MLGX6-3WGS\",\n",
    "                    \"454\" : \"1408MLGX6-3WGS\",\n",
    "                    \"471\" : \"1408MLGX6-3WGS\",\n",
    "                    \"470\" : \"1408MLGX6-3WGS\",\n",
    "                    \"477\" : \"1408MLGX6-3WGS\",\n",
    "                    \"476\" : \"1408MLGX6-3WGS\",\n",
    "                    \"464\" : \"1408MLGX6-3WGS\",\n",
    "                    \"462\" : \"1408MLGX6-3WGS\",\n",
    "                    \"456\" : \"1408MLGX6-3WGS\",\n",
    "                    \"452\" : \"1408MLGX6-3WGS\",\n",
    "                    \"461\" : \"1408MLGX6-3WGS\",\n",
    "                    \"468\" : \"1408MLGX6-3WGS\",\n",
    "                    \"467\" : \"1408MLGX6-3WGS\",\n",
    "                    \"453\" : \"1408MLGX6-3WGS\",\n",
    "                    \"474\" : \"1408MLGX6-3WGS\",\n",
    "                    \"458\" : \"1408MLGX6-3WGS\",\n",
    "                    \"478\" : \"outgroup\",\n",
    "                    \"449\" : \"outgroup\",\n",
    "                    \"450\" : \"outgroup\"\n",
    "                    }"
   ]
  },
  {
   "cell_type": "markdown",
   "metadata": {},
   "source": [
    "### Run MDS"
   ]
  },
  {
   "cell_type": "code",
   "execution_count": 4,
   "metadata": {},
   "outputs": [],
   "source": [
    "from sklearn import manifold"
   ]
  },
  {
   "cell_type": "code",
   "execution_count": 5,
   "metadata": {},
   "outputs": [],
   "source": [
    "mds = manifold.MDS(n_components=2, dissimilarity=\"precomputed\", random_state=2)\n",
    "results = mds.fit(df)\n"
   ]
  },
  {
   "cell_type": "code",
   "execution_count": 6,
   "metadata": {},
   "outputs": [],
   "source": [
    "### Create plot\n",
    "coords = results.embedding_\n",
    "Plot = pd.DataFrame(dict(x=coords[:, 0], y=coords[:, 1], label=INDEX))\n",
    "Plot['label'] = Plot['label'].apply(str)\n",
    "Plot[\"Outbreak\"] = Plot['label'].map(Outbreak_dict)"
   ]
  },
  {
   "cell_type": "markdown",
   "metadata": {},
   "source": [
    "### Plot MDS"
   ]
  },
  {
   "cell_type": "code",
   "execution_count": 7,
   "metadata": {},
   "outputs": [],
   "source": [
    "from matplotlib import pyplot as plt\n",
    "from matplotlib import pylab\n",
    "from matplotlib import cm"
   ]
  },
  {
   "cell_type": "code",
   "execution_count": 9,
   "metadata": {},
   "outputs": [
    {
     "data": {
      "image/png": "[encoded data removed]",
      "text/plain": [
       "<Figure size 432x324 with 1 Axes>"
      ]
     },
     "metadata": {},
     "output_type": "display_data"
    }
   ],
   "source": [
    "### Plot parameters\n",
    "fig_size = plt.rcParams[\"figure.figsize\"]\n",
    "fig_size[0] = 6\n",
    "fig_size[1] = 4.5\n",
    "plt.rcParams[\"figure.figsize\"] = fig_size\n",
    "\n",
    "### Plot\n",
    "groups = Plot.groupby('Outbreak')\n",
    "fig, ax = plt.subplots()\n",
    "ax.margins(0.2) # Optional, just adds 5% padding to the autoscaling\n",
    "\n",
    "colors = ['red', 'grey']\n",
    "alphas = np.linspace(.2, .8, len(groups))\n",
    "for group, color, alpha in zip(groups, colors, alphas):\n",
    "    ax.plot(group[1].x, \n",
    "            group[1].y, \n",
    "            marker='o', \n",
    "            linestyle='', \n",
    "            ms=10, \n",
    "            label=group[0], \n",
    "            c=color, \n",
    "            alpha=0.8,\n",
    "            markeredgecolor='k', \n",
    "           )\n",
    "\n",
    "lgd = pylab.legend(loc=2)\n",
    "# ax.legend_.remove()\n",
    "plt.title(\"Multi Dimesional Scaling of Benchmark Data:\\n Listeria\")\n",
    "plt.xticks([], [])\n",
    "plt.yticks([], [])\n",
    "plt.tight_layout()\n",
    "plt.show()"
   ]
  },
  {
   "cell_type": "code",
   "execution_count": null,
   "metadata": {},
   "outputs": [],
   "source": []
  },
  {
   "cell_type": "code",
   "execution_count": null,
   "metadata": {},
   "outputs": [],
   "source": []
  }
 ],
 "metadata": {
  "kernelspec": {
   "display_name": "Python 3",
   "language": "python",
   "name": "python3"
  },
  "language_info": {
   "codemirror_mode": {
    "name": "ipython",
    "version": 3
   },
   "file_extension": ".py",
   "mimetype": "text/x-python",
   "name": "python",
   "nbconvert_exporter": "python",
   "pygments_lexer": "ipython3",
   "version": "3.6.5"
  }
 },
 "nbformat": 4,
 "nbformat_minor": 2
}
